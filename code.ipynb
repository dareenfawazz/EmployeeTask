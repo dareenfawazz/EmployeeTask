{
 "cells": [
  {
   "cell_type": "code",
   "execution_count": 1,
   "id": "51aef5f1-9b49-4130-bf9c-c876f41e3fd7",
   "metadata": {},
   "outputs": [
    {
     "name": "stdout",
     "output_type": "stream",
     "text": [
      "Requirement already satisfied: pandas in c:\\users\\daree\\anaconda3\\lib\\site-packages (2.2.3)\n",
      "Requirement already satisfied: numpy>=1.26.0 in c:\\users\\daree\\anaconda3\\lib\\site-packages (from pandas) (2.1.3)\n",
      "Requirement already satisfied: python-dateutil>=2.8.2 in c:\\users\\daree\\anaconda3\\lib\\site-packages (from pandas) (2.9.0.post0)\n",
      "Requirement already satisfied: pytz>=2020.1 in c:\\users\\daree\\anaconda3\\lib\\site-packages (from pandas) (2024.1)\n",
      "Requirement already satisfied: tzdata>=2022.7 in c:\\users\\daree\\anaconda3\\lib\\site-packages (from pandas) (2025.2)\n",
      "Requirement already satisfied: six>=1.5 in c:\\users\\daree\\anaconda3\\lib\\site-packages (from python-dateutil>=2.8.2->pandas) (1.17.0)\n",
      "Note: you may need to restart the kernel to use updated packages.\n"
     ]
    }
   ],
   "source": [
    "pip install pandas"
   ]
  },
  {
   "cell_type": "code",
   "execution_count": 2,
   "id": "333f5956-86ff-4718-be8e-0dcbff5666ff",
   "metadata": {},
   "outputs": [],
   "source": [
    "import pandas as pd\n",
    "df = pd.read_excel(\"Employee Sample Data - A.xlsx\")"
   ]
  },
  {
   "cell_type": "code",
   "execution_count": 3,
   "id": "b79e183e-e04a-4800-9623-959f8855ae9b",
   "metadata": {},
   "outputs": [
    {
     "name": "stdout",
     "output_type": "stream",
     "text": [
      "     EEID        Full Name                 Job Title Department  \\\n",
      "0  E02387      Emily Davis                Sr. Manger         IT   \n",
      "1  E04105    Theodore Dinh       Technical Architect         IT   \n",
      "2  E02572     Luna Sanders                  Director    Finance   \n",
      "3  E02832  Penelope Jordan  Computer Systems Manager         IT   \n",
      "4  E01639        Austin Vo               Sr. Analyst    Finance   \n",
      "\n",
      "            Business Unit  Gender  Ethnicity   Age  Hire Date  Annual Salary  \\\n",
      "0  Research & Development  Female      Black  55.0 2016-04-08       141604.0   \n",
      "1           Manufacturing    Male      Asian  59.0 1997-11-29        99975.0   \n",
      "2     Speciality Products  Female  Caucasian  50.0 2006-10-26       163099.0   \n",
      "3           Manufacturing  Female  Caucasian  26.0 2019-09-27        84913.0   \n",
      "4           Manufacturing    Male      Asian  55.0 1995-11-20        95409.0   \n",
      "\n",
      "   Bonus %        Country       City  Exit Date  \n",
      "0     0.15  United States    Seattle 2021-10-16  \n",
      "1     0.00          China  Chongqing        NaT  \n",
      "2     0.20  United States    Chicago        NaT  \n",
      "3     0.07  United States    Chicago        NaT  \n",
      "4     0.00  United States    Phoenix        NaT  \n"
     ]
    }
   ],
   "source": [
    "print(df.head())"
   ]
  },
  {
   "cell_type": "code",
   "execution_count": 4,
   "id": "8e53d679-28da-4f77-b0fd-c674b6bd673f",
   "metadata": {},
   "outputs": [
    {
     "name": "stdout",
     "output_type": "stream",
     "text": [
      "Index(['EEID', 'Full Name', 'Job Title', 'Department', 'Business Unit',\n",
      "       'Gender', 'Ethnicity', 'Age', 'Hire Date', 'Annual Salary', 'Bonus %',\n",
      "       'Country', 'City', 'Exit Date'],\n",
      "      dtype='object')\n"
     ]
    }
   ],
   "source": [
    "print(df.columns)        "
   ]
  },
  {
   "cell_type": "code",
   "execution_count": 5,
   "id": "8c5dc02f-f615-44c4-9bf4-75d5a121a1cc",
   "metadata": {},
   "outputs": [
    {
     "name": "stdout",
     "output_type": "stream",
     "text": [
      "<class 'pandas.core.frame.DataFrame'>\n",
      "RangeIndex: 1000 entries, 0 to 999\n",
      "Data columns (total 14 columns):\n",
      " #   Column         Non-Null Count  Dtype         \n",
      "---  ------         --------------  -----         \n",
      " 0   EEID           1000 non-null   object        \n",
      " 1   Full Name      998 non-null    object        \n",
      " 2   Job Title      999 non-null    object        \n",
      " 3   Department     998 non-null    object        \n",
      " 4   Business Unit  1000 non-null   object        \n",
      " 5   Gender         999 non-null    object        \n",
      " 6   Ethnicity      993 non-null    object        \n",
      " 7   Age            994 non-null    float64       \n",
      " 8   Hire Date      993 non-null    datetime64[ns]\n",
      " 9   Annual Salary  989 non-null    float64       \n",
      " 10  Bonus %        992 non-null    float64       \n",
      " 11  Country        998 non-null    object        \n",
      " 12  City           998 non-null    object        \n",
      " 13  Exit Date      85 non-null     datetime64[ns]\n",
      "dtypes: datetime64[ns](2), float64(3), object(9)\n",
      "memory usage: 109.5+ KB\n",
      "None\n"
     ]
    }
   ],
   "source": [
    "print(df.info())         "
   ]
  },
  {
   "cell_type": "code",
   "execution_count": 6,
   "id": "37557f16-37d3-41df-bed0-ce4bdbafb226",
   "metadata": {},
   "outputs": [
    {
     "name": "stdout",
     "output_type": "stream",
     "text": [
      "EEID               0\n",
      "Full Name          2\n",
      "Job Title          1\n",
      "Department         2\n",
      "Business Unit      0\n",
      "Gender             1\n",
      "Ethnicity          7\n",
      "Age                6\n",
      "Hire Date          7\n",
      "Annual Salary     11\n",
      "Bonus %            8\n",
      "Country            2\n",
      "City               2\n",
      "Exit Date        915\n",
      "dtype: int64\n"
     ]
    }
   ],
   "source": [
    "print(df.isnull().sum()) "
   ]
  },
  {
   "cell_type": "code",
   "execution_count": 7,
   "id": "7d6cf086-d552-4893-8e8d-428d75835f44",
   "metadata": {},
   "outputs": [],
   "source": [
    "df.columns = [c.strip().lower().replace(\" \", \"_\") for c in df.columns]"
   ]
  },
  {
   "cell_type": "code",
   "execution_count": 8,
   "id": "d34d9861-bee8-4558-904b-7a38d1ef8e1e",
   "metadata": {},
   "outputs": [],
   "source": [
    "for col in df.select_dtypes(include='object').columns:\n",
    "    df[col] = df[col].str.strip()"
   ]
  },
  {
   "cell_type": "code",
   "execution_count": 9,
   "id": "8b61b6d9-ee3f-4537-ab9a-266d407a5160",
   "metadata": {},
   "outputs": [],
   "source": [
    "df[\"age\"] = pd.to_numeric(df[\"age\"], errors=\"coerce\")\n",
    "df[\"annual_salary\"] = pd.to_numeric(df[\"annual_salary\"], errors=\"coerce\")"
   ]
  },
  {
   "cell_type": "code",
   "execution_count": 11,
   "id": "7312f6c5-e59c-4c9c-8d0c-fd1838c2d054",
   "metadata": {},
   "outputs": [],
   "source": [
    "df[\"age\"] = df[\"age\"].fillna(df[\"age\"].median())\n",
    "df[\"annual_salary\"] = df[\"annual_salary\"].fillna(df[\"annual_salary\"].median())"
   ]
  },
  {
   "cell_type": "code",
   "execution_count": 12,
   "id": "5e026d3d-b41e-4a42-a732-f92de763bb5d",
   "metadata": {},
   "outputs": [],
   "source": [
    "df.drop_duplicates(inplace=True)"
   ]
  },
  {
   "cell_type": "code",
   "execution_count": 13,
   "id": "aa7f73fc-b110-47f0-b945-12b4e317dd81",
   "metadata": {},
   "outputs": [
    {
     "name": "stdout",
     "output_type": "stream",
     "text": [
      "eeid               0\n",
      "full_name          2\n",
      "job_title          1\n",
      "department         2\n",
      "business_unit      0\n",
      "gender             1\n",
      "ethnicity          7\n",
      "age                0\n",
      "hire_date          7\n",
      "annual_salary      0\n",
      "bonus_%            8\n",
      "country            2\n",
      "city               2\n",
      "exit_date        915\n",
      "dtype: int64\n"
     ]
    }
   ],
   "source": [
    "print(df.isnull().sum()) "
   ]
  },
  {
   "cell_type": "code",
   "execution_count": 15,
   "id": "fa445293-bf92-4e9b-8744-4249f8e8de27",
   "metadata": {},
   "outputs": [],
   "source": [
    "df.loc[:4, \"full_name\"] = [\"Employee 1\", \"Employee 2\", \"Employee 3\", \"Employee 4\", \"Employee 5\"]\n",
    "df.loc[:4, \"age\"] = [20, 21, 23, 28, 22]\n",
    "df.loc[:4, \"annual_salary\"] = [5000, 3000, 4000, 4500, 3500]\n"
   ]
  },
  {
   "cell_type": "code",
   "execution_count": 16,
   "id": "c40c73dc-3ccb-42bc-9562-64bd24fa080b",
   "metadata": {},
   "outputs": [
    {
     "name": "stdout",
     "output_type": "stream",
     "text": [
      "eeid                          E04354\n",
      "full_name               Raelynn Rios\n",
      "job_title             Vice President\n",
      "department                     Sales\n",
      "business_unit          Manufacturing\n",
      "gender                        Female\n",
      "ethnicity                     Latino\n",
      "age                             43.0\n",
      "hire_date        2016-08-21 00:00:00\n",
      "annual_salary               258498.0\n",
      "bonus_%                         0.35\n",
      "country                United States\n",
      "city                        Columbus\n",
      "exit_date                        NaT\n",
      "Name: 989, dtype: object\n"
     ]
    }
   ],
   "source": [
    "highestSalary = df.loc[df[\"annual_salary\"].idxmax()]\n",
    "print(highestSalary)"
   ]
  },
  {
   "cell_type": "code",
   "execution_count": 17,
   "id": "2ebefa6e-4936-431e-8441-0a9079b34335",
   "metadata": {},
   "outputs": [
    {
     "name": "stdout",
     "output_type": "stream",
     "text": [
      "                 average_age  average_salary\n",
      "department                                  \n",
      "Accounting         43.656250   123146.947917\n",
      "Engineering        45.670886   109053.101266\n",
      "Finance            44.708333   120894.616667\n",
      "Human Resources    44.443548   117907.088710\n",
      "IT                 44.070833    96634.050000\n",
      "Marketing          43.216667   129663.033333\n",
      "Sales              43.614286   111120.635714\n"
     ]
    }
   ],
   "source": [
    "group1 = df.groupby(\"department\").agg(\n",
    "    average_age=(\"age\", \"mean\"),\n",
    "    average_salary=(\"annual_salary\", \"mean\")\n",
    ")\n",
    "print(group1)"
   ]
  },
  {
   "cell_type": "code",
   "execution_count": 18,
   "id": "8da592d2-3f08-44c6-bafe-c67e852dda2e",
   "metadata": {},
   "outputs": [
    {
     "name": "stdout",
     "output_type": "stream",
     "text": [
      "                           maxAge  minAge  medianSalary\n",
      "department      ethnicity                              \n",
      "Accounting      Asian        64.0    25.0      114893.0\n",
      "                Black        51.0    30.0       91853.0\n",
      "                Caucasian    62.0    26.0      121159.5\n",
      "                Latino       62.0    26.0       92317.0\n",
      "Engineering     Asian        65.0    25.0       91230.0\n",
      "                Black        56.0    27.0       74412.0\n",
      "                Caucasian    64.0    25.0       96057.0\n",
      "                Latino       64.0    27.0       96818.0\n",
      "Finance         Asian        64.0    22.0      124928.0\n",
      "                Black        65.0    25.0      131652.0\n",
      "                Caucasian    64.0    23.0       95045.0\n",
      "                Latino       65.0    25.0      124553.0\n",
      "Human Resources Asian        64.0    25.0      125871.5\n",
      "                Black        55.0    25.0      142318.0\n",
      "                Caucasian    64.0    26.0      100364.5\n",
      "                Latino       65.0    29.0      101985.0\n",
      "IT              Asian        65.0    21.0       89494.0\n",
      "                Black        61.0    20.0       72901.5\n",
      "                Caucasian    65.0    26.0       81218.0\n",
      "                Latino       64.0    25.0       83934.0\n",
      "Marketing       Asian        65.0    25.0      147752.0\n",
      "                Black        65.0    27.0       86075.5\n",
      "                Caucasian    65.0    25.0      113135.0\n",
      "                Latino       65.0    29.0       97063.5\n",
      "Sales           Asian        64.0    25.0       89528.5\n",
      "                Black        65.0    26.0       94246.0\n",
      "                Caucasian    63.0    26.0       96092.0\n",
      "                Latino       61.0    26.0      113269.0\n"
     ]
    }
   ],
   "source": [
    "group2 = df.groupby([\"department\", \"ethnicity\"]).agg(\n",
    "    maxAge=(\"age\", \"max\"),\n",
    "    minAge=(\"age\", \"min\"),\n",
    "    medianSalary=(\"annual_salary\", \"median\")\n",
    ")\n",
    "print(group2)"
   ]
  },
  {
   "cell_type": "code",
   "execution_count": 19,
   "id": "ac4c8acd-27b9-44a1-ac71-9f0ff9256f1d",
   "metadata": {},
   "outputs": [],
   "source": [
    "with pd.ExcelWriter(\"EmployeeAnalysis.xlsx\", engine=\"openpyxl\") as writer:\n",
    "    df.to_excel(writer, sheet_name=\"cleanedData\", index=False)\n",
    "    group1.to_excel(writer, sheet_name=\"deptAverages\")\n",
    "    group2.to_excel(writer, sheet_name=\"deptEthnicityStats\")"
   ]
  },
  {
   "cell_type": "code",
   "execution_count": null,
   "id": "704ad20d-5732-43e0-9656-aa6c8427a49b",
   "metadata": {},
   "outputs": [],
   "source": []
  }
 ],
 "metadata": {
  "kernelspec": {
   "display_name": "Python 3 (ipykernel)",
   "language": "python",
   "name": "python3"
  },
  "language_info": {
   "codemirror_mode": {
    "name": "ipython",
    "version": 3
   },
   "file_extension": ".py",
   "mimetype": "text/x-python",
   "name": "python",
   "nbconvert_exporter": "python",
   "pygments_lexer": "ipython3",
   "version": "3.13.5"
  }
 },
 "nbformat": 4,
 "nbformat_minor": 5
}
